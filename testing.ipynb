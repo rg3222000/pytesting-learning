{
 "cells": [
  {
   "cell_type": "code",
   "execution_count": 110,
   "metadata": {},
   "outputs": [],
   "source": [
    "from logger import logger\n",
    "from fastapi import FastAPI\n",
    "import uvicorn\n",
    "from PIL import Image\n",
    "import torch\n",
    "import numpy as np\n",
    "from numpy.linalg import norm\n",
    "# Load model directly\n",
    "import timm\n",
    "from transformers import AutoImageProcessor, AutoModelForImageClassification, AutoModel, SwinModel, SwinConfig, \\\n",
    "    AutoConfig, ViTImageProcessor, ViTFeatureExtractor\n",
    "import config as cnf\n",
    "\n",
    "from src.routes.routes import router\n",
    "\n",
    "\n",
    "app = FastAPI()\n",
    "app.include_router(router)"
   ]
  },
  {
   "cell_type": "code",
   "execution_count": 119,
   "metadata": {},
   "outputs": [
    {
     "name": "stdout",
     "output_type": "stream",
     "text": [
      "2024-09-16 23:27:49,322 pytesting [INFO] 1 - <module>: Fast API application running on port: 8001 and host: localhost\n",
      "2024-09-16 23:27:49,333 urllib3.connectionpool [DEBUG] 291 - _get_conn: Resetting dropped connection: huggingface.co\n",
      "2024-09-16 23:27:50,086 urllib3.connectionpool [DEBUG] 546 - _make_request: https://huggingface.co:443 \"HEAD /microsoft/swin-tiny-patch4-window7-224/resolve/main/preprocessor_config.json HTTP/11\" 200 0\n",
      "2024-09-16 23:27:50,483 urllib3.connectionpool [DEBUG] 546 - _make_request: https://huggingface.co:443 \"HEAD /microsoft/swin-tiny-patch4-window7-224/resolve/main/config.json HTTP/11\" 200 0\n"
     ]
    }
   ],
   "source": [
    "logger.info(\"Fast API application running on port: %s and host: %s\", cnf.port, cnf.host)\n",
    "# uvicorn.run(app='main:app', port=int(cnf.port),host=cnf.host)\n",
    "processor1 = AutoImageProcessor.from_pretrained(\"microsoft/swin-tiny-patch4-window7-224\")\n",
    "model1 = AutoModelForImageClassification.from_pretrained(\"microsoft/swin-tiny-patch4-window7-224\")\n",
    "torch.save(model1.state_dict(), f\"routes/swin1.pt\")"
   ]
  },
  {
   "cell_type": "code",
   "execution_count": 112,
   "metadata": {},
   "outputs": [],
   "source": [
    "img = Image.open('/home/rahul/Documents/pytest-learning/signature (1).jpg')"
   ]
  },
  {
   "cell_type": "code",
   "execution_count": 113,
   "metadata": {},
   "outputs": [
    {
     "name": "stdout",
     "output_type": "stream",
     "text": [
      "1000\n"
     ]
    }
   ],
   "source": [
    "inputs = processor1(images=img, return_tensors=\"pt\")\n",
    "outputs = model1(**inputs)\n",
    "A = outputs.logits[0].tolist()\n",
    "print(len(outputs.logits[0].tolist()))"
   ]
  },
  {
   "cell_type": "code",
   "execution_count": 114,
   "metadata": {},
   "outputs": [
    {
     "data": {
      "text/plain": [
       "{'do_normalize': True,\n",
       " 'do_resize': True,\n",
       " 'feature_extractor_type': 'ViTFeatureExtractor',\n",
       " 'image_mean': [0.485, 0.456, 0.406],\n",
       " 'image_std': [0.229, 0.224, 0.225],\n",
       " 'resample': 3,\n",
       " 'size': 224}"
      ]
     },
     "execution_count": 114,
     "metadata": {},
     "output_type": "execute_result"
    }
   ],
   "source": [
    "# make streams\n",
    "from io import BytesIO\n",
    "import json\n",
    "with open('routes/config.json', \"rb\") as fh:\n",
    "    mc = json.load(fh)\n",
    "mc\n",
    "with open('routes/preprocessor_config.json', \"rb\") as fh:\n",
    "    pc = json.load(fh)\n",
    "  \"feature_extractor_type\": \"ViTFeatureExtractor\",\n",
    "  \"image_mean\": [\n",
    "pc\n",
    "# processor = AutoImageProcessor.from_pretrained('microsoft/swin-tiny-patch4-window7-224')"
   ]
  },
  {
   "cell_type": "code",
   "execution_count": 115,
   "metadata": {},
   "outputs": [],
   "source": [
    "processor = ViTFeatureExtractor(\n",
    "    do_resize=pc[\"do_resize\"],\n",
    "    size=pc[\"size\"],\n",
    "    do_normalize=pc[\"do_normalize\"],\n",
    "    image_mean=pc[\"image_mean\"],\n",
    "    image_std=pc[\"image_std\"]\n",
    ")\n"
   ]
  },
  {
   "cell_type": "code",
   "execution_count": 116,
   "metadata": {},
   "outputs": [
    {
     "name": "stderr",
     "output_type": "stream",
     "text": [
      "/tmp/ipykernel_11426/872923281.py:13: FutureWarning: You are using `torch.load` with `weights_only=False` (the current default value), which uses the default pickle module implicitly. It is possible to construct malicious pickle data which will execute arbitrary code during unpickling (See https://github.com/pytorch/pytorch/blob/main/SECURITY.md#untrusted-models for more details). In a future release, the default value for `weights_only` will be flipped to `True`. This limits the functions that could be executed during unpickling. Arbitrary objects will no longer be allowed to be loaded via this mode unless they are explicitly allowlisted by the user via `torch.serialization.add_safe_globals`. We recommend you start setting `weights_only=True` for any use case where you don't have full control of the loaded file. Please open an issue on GitHub for any issues related to this experimental feature.\n",
      "  model.load_state_dict(torch.load(open('routes/swin.pt', 'rb')))\n"
     ]
    },
    {
     "data": {
      "text/plain": [
       "<All keys matched successfully>"
      ]
     },
     "execution_count": 116,
     "metadata": {},
     "output_type": "execute_result"
    }
   ],
   "source": [
    "# processor = AutoImageProcessor.from_pretrained(\"routes/preprocessor_config.json\")\n",
    "# processor = AutoImageProcessor.from_dict(pc)\n",
    "config = SwinConfig.from_dict(mc)\n",
    "# config = AutoConfig.from_pretrained('routes/config.json')\n",
    "# print(config)\n",
    "# config = SwinConfig(image_size=sizes[0], depths=depths[0],\n",
    "#                     embed_dim=embed_dims[0], num_heads=num_heads[0],\n",
    "#                     window_size=window_sizes[0])\n",
    "# model = SwinModel(config)\n",
    "model = AutoModelForImageClassification.from_config(config)\n",
    "# print(model)\n",
    "#\n",
    "model.load_state_dict(torch.load(open('routes/swin.pt', 'rb')))"
   ]
  },
  {
   "cell_type": "code",
   "execution_count": 117,
   "metadata": {},
   "outputs": [
    {
     "name": "stdout",
     "output_type": "stream",
     "text": [
      "1000\n"
     ]
    }
   ],
   "source": [
    "\n",
    "# processor = AutoImageProcessor.from_pretrained(\"routes/preprocessor_config.json\")\n",
    "# model = AutoModel.from_pretrained(\"routes/config.json\")\n",
    "\n",
    "# logger.info(\"original model\")\n",
    "# # p = outputs.pooler_output.tolist()\n",
    "# print(outputs)\n",
    "# # print(len(p[0]))\n",
    "# logits = outputs.logits\n",
    "# sizes = [224, 224, 224, 384]\n",
    "# num_heads = [[3, 6, 12, 24]]\n",
    "# depths = [[2, 2, 6, 2]]\n",
    "# embed_dims = [96]\n",
    "# window_sizes = [7]\n",
    "\n",
    "# img = Image.open('/home/rahul/Documents/pytest-learning/signature (1).jpg')\n",
    "inputs = processor(images=img, return_tensors=\"pt\")\n",
    "outputs = model(**inputs)\n",
    "B = outputs.logits[0].tolist()\n",
    "# print(outputs.logits)\n",
    "print(len(outputs.logits[0].tolist()))\n",
    "# # config = SwinConfig.from_pretrained('microsoft/swin-tiny-patch4-window7-224')\n",
    "# # model = SwinModel(config)\n",
    "# # print(len(logits[0]))\n",
    "# # model = timm.create_model('swin_tiny_patch4_window7_224', pretrained=False)\n",
    "# # # model = torch.load('routes/pytorch_model.bin', weights_only=False)\n",
    "# # model = model.load_state_dict(torch.load('routes/FE-swin.pt'))\n",
    "# print(model.eval())\n",
    "# model = AutoModel.from_pretrained('/home/rahul/Downloads/tf_model.h5')\n",
    "# model.save_pretrained('routes/', safe_serialization=False)\n",
    "\n",
    "\n",
    "\n"
   ]
  },
  {
   "cell_type": "code",
   "execution_count": 118,
   "metadata": {},
   "outputs": [
    {
     "name": "stdout",
     "output_type": "stream",
     "text": [
      "Cosine Similarity: 0.69686597779347\n"
     ]
    }
   ],
   "source": [
    "cosine = np.dot(A, B) / (norm(A) * norm(B))\n",
    "print(\"Cosine Similarity:\", cosine)"
   ]
  },
  {
   "cell_type": "code",
   "execution_count": null,
   "metadata": {},
   "outputs": [],
   "source": []
  },
  {
   "cell_type": "code",
   "execution_count": null,
   "metadata": {},
   "outputs": [],
   "source": []
  },
  {
   "cell_type": "code",
   "execution_count": null,
   "metadata": {},
   "outputs": [],
   "source": []
  }
 ],
 "metadata": {
  "kernelspec": {
   "display_name": "pytesting",
   "language": "python",
   "name": "python3"
  },
  "language_info": {
   "codemirror_mode": {
    "name": "ipython",
    "version": 3
   },
   "file_extension": ".py",
   "mimetype": "text/x-python",
   "name": "python",
   "nbconvert_exporter": "python",
   "pygments_lexer": "ipython3",
   "version": "3.11.7"
  }
 },
 "nbformat": 4,
 "nbformat_minor": 2
}
